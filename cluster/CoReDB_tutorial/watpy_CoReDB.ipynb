{
 "cells": [
  {
   "cell_type": "markdown",
   "metadata": {},
   "source": [
    "# Clone, get data and load waveforms from a simulation to the CoRe DB"
   ]
  },
  {
   "cell_type": "markdown",
   "metadata": {},
   "source": [
    "Illustrates the use of the watpy objects to work with the CoRe DB.\n",
    "\n",
    "SB 09/2021 \n",
    "AG 05/2023 \n",
    "core@uni-jena.de"
   ]
  },
  {
   "cell_type": "markdown",
   "metadata": {},
   "source": [
    "## 0. Start"
   ]
  },
  {
   "cell_type": "markdown",
   "metadata": {},
   "source": [
    "Clone the repo somewhere and install the package:\n",
    "\n",
    "```\n",
    "git clone https://git.tpi.uni-jena.de/core/watpy.git\n",
    "cd watpy\n",
    "python setup.py install\n",
    "```\n",
    "\n",
    "Now we will be cloning part of the CoRe DB from the gitlab repository\n",
    "\n",
    "https://core-gitlfs.tpi.uni-jena.de/core_database\n",
    "\n",
    "so prepare a folder for those data:\n",
    "\n",
    "```\n",
    "mkdir CoRe_DB_clone # for local clone of the CoRe DB\n",
    "```\n",
    "\n",
    "or"
   ]
  },
  {
   "cell_type": "code",
   "execution_count": null,
   "metadata": {},
   "outputs": [],
   "source": [
    "import os\n",
    "os.makedirs('./CoRe_DB_clone', exist_ok=True) "
   ]
  },
  {
   "cell_type": "markdown",
   "metadata": {},
   "source": [
    "## 1. Clone the CoRe DB"
   ]
  },
  {
   "cell_type": "code",
   "execution_count": null,
   "metadata": {},
   "outputs": [],
   "source": [
    "from watpy.coredb.coredb import *"
   ]
  },
  {
   "cell_type": "markdown",
   "metadata": {},
   "source": [
    "Initialize a `CoRe_db()` object by specifying the path where we would like the CoRe DB to be initialized. \n",
    "The initialization will either clone the special repository `core_database_index` (and only this one) in the given path or syncronize it to (i.e. pull) the latest version in case the repository already exists."
   ]
  },
  {
   "cell_type": "code",
   "execution_count": null,
   "metadata": {},
   "outputs": [],
   "source": [
    "# Tell Git to accept our certificate\n",
    "!git config --global http.sslCAInfo /etc/certs/core-gitlfs-tpi-uni-jena-de.pem"
   ]
  },
  {
   "cell_type": "code",
   "execution_count": null,
   "metadata": {},
   "outputs": [],
   "source": [
    "db_path = './CoRe_DB_clone/'\n",
    "cdb = CoRe_db(db_path)"
   ]
  },
  {
   "cell_type": "markdown",
   "metadata": {},
   "source": [
    "The `cdb` object contains the CoRe DB index, which is a `CoRe_idx()` object with essential metadata for all the simulations contained in the DB. The metadata are in a list of `CoRe_md()` objects; which is a simple class wrapping a python dictionary."
   ]
  },
  {
   "cell_type": "code",
   "execution_count": null,
   "metadata": {},
   "outputs": [],
   "source": [
    "idb = cdb.idb\n",
    "\n",
    "print(idb.dbkeys) # show the database_key for each simulation\n",
    "\n",
    "# show the metadata in the CoRe DB index for each simulation\n",
    "entries = 0\n",
    "for i in idb.index: \n",
    "    entries += 1\n",
    "    for k, v in i.data.items():\n",
    "        print('  {} = {}'.format(k,v))\n",
    "    \n",
    "    break # uncomment to see all ... large output\n",
    "print('Shown {} entries'.format(entries))"
   ]
  },
  {
   "cell_type": "markdown",
   "metadata": {},
   "source": [
    "It is also possible to plot some quantities"
   ]
  },
  {
   "cell_type": "code",
   "execution_count": null,
   "metadata": {},
   "outputs": [],
   "source": [
    "fig, ax = idb.show('id_eos', to_float=False) "
   ]
  },
  {
   "cell_type": "code",
   "execution_count": null,
   "metadata": {},
   "outputs": [],
   "source": [
    "fig, ax = idb.show('id_gw_frequency_Momega22', to_float=True) "
   ]
  },
  {
   "cell_type": "markdown",
   "metadata": {},
   "source": [
    "**Note that the index contains only a subset of all the available metadata for each simulation.** We can find a group of simulations based on these metadata using usual dictionary manipulation:"
   ]
  },
  {
   "cell_type": "code",
   "execution_count": null,
   "metadata": {},
   "outputs": [],
   "source": [
    "key = 'id_eos'\n",
    "val = 'DD2'\n",
    "mdl_id_eos_DD2 = [i for i in idb.index if i.data[key]== val] # list of metadata(dictionaries)\n",
    "\n",
    "# show metadata for these runs\n",
    "for md in mdl_id_eos_DD2:\n",
    "    for k, v in md.data.items():\n",
    "        print('  {} = {}'.format(k,v))\n",
    "        "
   ]
  },
  {
   "cell_type": "markdown",
   "metadata": {},
   "source": [
    "The relative dbkeys are"
   ]
  },
  {
   "cell_type": "code",
   "execution_count": null,
   "metadata": {},
   "outputs": [],
   "source": [
    "dbkeys_id_eos_DD2 = [md.data['database_key'] for md in mdl_id_eos_DD2]\n",
    "\n",
    "print(dbkeys_id_eos_DD2)"
   ]
  },
  {
   "cell_type": "markdown",
   "metadata": {},
   "source": [
    "We could now sync use the local DB with the entire CoRe DB:"
   ]
  },
  {
   "cell_type": "code",
   "execution_count": null,
   "metadata": {},
   "outputs": [],
   "source": [
    "#cdb.sync(lfs=True, verbose=False) # this takes some time ..."
   ]
  },
  {
   "cell_type": "markdown",
   "metadata": {},
   "source": [
    "But if only a subset of simulations are required, we can clone only the relative repositories. We can enforce the syncronization of a subset of simulations by passing explicitly the `dbkeys` argument:"
   ]
  },
  {
   "cell_type": "code",
   "execution_count": null,
   "metadata": {},
   "outputs": [],
   "source": [
    "cdb.sync(dbkeys=dbkeys_id_eos_DD2, verbose=False, lfs=True, prot='https')\n",
    "#cdb.sync(dbkeys='THC:0001',verbose=False, lfs=True, prot='https') # To sync only one simulation"
   ]
  },
  {
   "cell_type": "markdown",
   "metadata": {},
   "source": [
    "The object `cdb` has inside a list of `CoRe_sim()` objects labelled by the `database_key`. Each  `CoRe_sim()` object contains metadata and data of all the runs of a simulation, i.e. the content of one of the git repo in the CoRe DB group."
   ]
  },
  {
   "cell_type": "code",
   "execution_count": null,
   "metadata": {},
   "outputs": [],
   "source": [
    "sim = cdb.sim\n",
    "\n",
    "# see also 2. below\n",
    "print(sim.keys())\n",
    "\n",
    "print(sim['THC:0013'].run)\n",
    "\n",
    "print(sim['THC:0013'].run['R01'])\n",
    "print(sim['THC:0013'].run['R01'].data) # now you can work with this!\n",
    "print(sim['THC:0013'].run['R01'].md) # now you can work with this!"
   ]
  },
  {
   "cell_type": "markdown",
   "metadata": {},
   "source": [
    "We now have the data we want."
   ]
  },
  {
   "cell_type": "markdown",
   "metadata": {},
   "source": [
    "# 2 Get the CoRe DB data"
   ]
  },
  {
   "cell_type": "markdown",
   "metadata": {},
   "source": [
    "Now, lets see better how to what is inside one simulation object:"
   ]
  },
  {
   "cell_type": "code",
   "execution_count": null,
   "metadata": {},
   "outputs": [],
   "source": [
    "thc13 = sim['THC:0013']\n",
    "\n",
    "# metadata of this simulation - common data for all runs, from metadata_main.txt\n",
    "for k, v in thc13.md.data.items():\n",
    "    print('  {} = {}'.format(k,v))"
   ]
  },
  {
   "cell_type": "markdown",
   "metadata": {},
   "source": [
    "The runs available for this simulation:"
   ]
  },
  {
   "cell_type": "code",
   "execution_count": null,
   "metadata": {},
   "outputs": [],
   "source": [
    "print(thc13.run.keys())"
   ]
  },
  {
   "cell_type": "markdown",
   "metadata": {},
   "source": [
    "Each run is a `CoRe_run()` object that contains the metadata for the run and the actual data. The metadata is as usual"
   ]
  },
  {
   "cell_type": "code",
   "execution_count": null,
   "metadata": {},
   "outputs": [],
   "source": [
    "thc13_r01 = thc13.run['R01']\n",
    "\n",
    "# metadata of this simulation run - note this has more info, from metadata.txt\n",
    "for k, v in thc13_r01.md.data.items():\n",
    "    print('  {} = {}'.format(k,v))"
   ]
  },
  {
   "cell_type": "markdown",
   "metadata": {},
   "source": [
    "The actual data are stored in a `CoRe_h5()` object that allows us to easily read (write) from (to) the HDF5 format. For example, we can dump the HDF5 data into `.txt` files. We can choose what to extract ($h$, $\\Psi_4$ or the energetics of the waveform) or just extract everything in the same directory where the original HDF5 archive was stored. The `.txt` files can now be loaded with any python routine (or with the `wave` classes of watpy)."
   ]
  },
  {
   "cell_type": "code",
   "execution_count": null,
   "metadata": {},
   "outputs": [],
   "source": [
    "# h5 data file\n",
    "print(thc13_r01.data)\n",
    "print(thc13_r01.data.dfile)\n",
    "\n",
    "# extract to txt\n",
    "thc13_r01.data.write_strain_to_txt() \n",
    "thc13_r01.data.write_psi4_to_txt()\n",
    "thc13_r01.data.write_EJ_to_txt()\n",
    "\n",
    "# or all three in one:\n",
    "#r01.h5.extract_all()"
   ]
  },
  {
   "cell_type": "markdown",
   "metadata": {},
   "source": [
    "**NOTE: The extracted files are not meant to be tracked by the CoRe DB repo and should not be added to any commit.**\n",
    "The `CoRe_run` object can help you to delete the `.txt` files as follows:"
   ]
  },
  {
   "cell_type": "code",
   "execution_count": null,
   "metadata": {},
   "outputs": [],
   "source": [
    "#thc13_r01.clean_txt() # delete files extracted from the HDF5"
   ]
  },
  {
   "cell_type": "markdown",
   "metadata": {},
   "source": [
    "The `CoRe_h5()` object has also routines to directly read the data at the chosen extraction radius. If no radius is given, or if the selected radius is not within the available ones, the largest is chosen by default. So, one can finally see the data:"
   ]
  },
  {
   "cell_type": "code",
   "execution_count": null,
   "metadata": {},
   "outputs": [],
   "source": [
    "fig, ax = thc13_r01.data.show('rh_22')"
   ]
  },
  {
   "cell_type": "markdown",
   "metadata": {},
   "source": [
    "Finally, we can check the content of the HDF5 and import the dataset as a numpy array:"
   ]
  },
  {
   "cell_type": "code",
   "execution_count": null,
   "metadata": {},
   "outputs": [],
   "source": [
    "# check dset, h5dump -n\n",
    "dset = thc13_r01.data.dump()\n",
    "\n",
    "# import as numpy array\n",
    "# 'read' is deprecated, use read_dset if possible\n",
    "dset = thc13_r01.data.read('rh_22')\n",
    "print(dset)\n",
    "\n",
    "# plot it\n",
    "import matplotlib.pyplot as plt\n",
    "plt.plot(dset[:,0],dset[:,1])"
   ]
  },
  {
   "cell_type": "markdown",
   "metadata": {},
   "source": [
    "# 3 Load waveforms from a simulation\n",
    "\n",
    "Here we give an example on how to write metadata in CoRe format. Something like this must be done, for example, every time a new simulations needs to the added to the CoRe DB."
   ]
  },
  {
   "cell_type": "code",
   "execution_count": null,
   "metadata": {},
   "outputs": [],
   "source": [
    "from watpy.wave.wave import *\n",
    "from watpy.utils import ioutils\n",
    "from watpy.utils.units import MSun_sec\n",
    "import numpy as np\n",
    "import os, glob"
   ]
  },
  {
   "cell_type": "code",
   "execution_count": null,
   "metadata": {},
   "outputs": [],
   "source": [
    "Msun_sec = MSun_sec() #4.925794970773135e-06\n",
    "\n",
    "# metadata\n",
    "thcsim = {}\n",
    "thcsim['folder'] = './MySim_THC_135135' # simulation folder\n",
    "thcsim['mass'] = 2 * 1.364 # binary mass in solar masses\n",
    "thcsim['q'] = 1.0 # mass ratio, >= 1\n",
    "thcsim['f0_Hz'] = 565.08 # initial GW frequency in Hz\n",
    "thcsim['f0'] = thcsim['f0_Hz'] * Msun_sec\n",
    "thcsim['Momg22'] = thcsim['mass'] * thcsim['f0'] / (2*np.pi) # initial GW frequency in geom. units\n",
    "thcsim['massA'] = 1.364\n",
    "thcsim['massB'] = 1.364\n",
    "thcsim['madm'] = 2.703 # ADM mass (t=0) \n",
    "thcsim['jadm'] = 7.400 # ADM ang.mom. (t=0) \n",
    "thcsim['id_code']                  = 'LORENE'\n",
    "thcsim['id_type']                  = 'Irrotational'\n",
    "thcsim['id_mass']                  = 2.7\n",
    "thcsim['id_rest_mass']             = 2.94554\n",
    "thcsim['id_mass_ratio']            = 1.0\n",
    "thcsim['id_ADM_mass']              = 2.67288\n",
    "thcsim['id_ADM_angularmomentum']   = 7.01514\n",
    "thcsim['id_gw_frequency_Hz']       = 663.58\n",
    "thcsim['id_gw_frequency_Momega22'] = 0.0554514940011\n",
    "thcsim['id_eos']                   = 'ABC'\n",
    "thcsim['id_kappa2T']               = 159.0084296249798\n",
    "thcsim['id_Lambda']                = 848.0449579998918\n",
    "thcsim['id_eccentricity']          = None \n",
    "thcsim['id_mass_starA']            = 1.35\n",
    "thcsim['id_rest_mass_starA']       = 1.47277\n",
    "thcsim['id_spin_starA']            = 0, 0, 0\n",
    "thcsim['id_LoveNum_kell_starA']    = 0.09996, 0.0269, 0.00984\n",
    "thcsim['id_Lambdaell_starA']       = 848.0449579998921, 2001.0063178210328, 4584.234164607441\n",
    "thcsim['id_mass_starB']            = 1.35\n",
    "thcsim['id_rest_mass_starB']       = 1.47277"
   ]
  },
  {
   "cell_type": "markdown",
   "metadata": {},
   "source": [
    "Define directory to save CoRe output data"
   ]
  },
  {
   "cell_type": "code",
   "execution_count": null,
   "metadata": {},
   "outputs": [],
   "source": [
    "thcsim['pre-release-folder'] = './MySim_THC_135135/CoReDB' # folder with CoRe formatted files\n",
    "\n",
    "# Create CoRe output folder if needed\n",
    "os.makedirs(thcsim['pre-release-folder'], exist_ok = True)"
   ]
  },
  {
   "cell_type": "markdown",
   "metadata": {},
   "source": [
    "Collect all $\\Psi_4$ files and define a multipolar wave with the class `mwaves()`"
   ]
  },
  {
   "cell_type": "code",
   "execution_count": null,
   "metadata": {},
   "outputs": [],
   "source": [
    "fnames = [os.path.split(x)[1] for x in glob.glob('{}/{}'.format(thcsim['folder'],'mp_Psi4_l?_m?_r400.00.asc'))]\n",
    "\n",
    "wm = mwaves(path = thcsim['folder'], code = 'cactus', filenames = fnames, \n",
    "            mass = thcsim['mass'], f0 = thcsim['f0'], ignore_negative_m=True)"
   ]
  },
  {
   "cell_type": "markdown",
   "metadata": {},
   "source": [
    "Show (2,2) strain."
   ]
  },
  {
   "cell_type": "code",
   "execution_count": null,
   "metadata": {},
   "outputs": [],
   "source": [
    "h22 = wm.get(l=2, m=2)\n",
    "fig = h22.show_strain()"
   ]
  },
  {
   "cell_type": "markdown",
   "metadata": {},
   "source": [
    "Get strain from all modes\n",
    "\n",
    "$h_+ - i h_\\times = D_L^{-1}\\sum_{\\ell=2}^\\infty\\sum_{m=-\\ell}^{\\ell} h_{\\ell m}(t)\\,{}^{-2}Y_{\\ell m}(\\iota,\\varphi)$"
   ]
  },
  {
   "cell_type": "code",
   "execution_count": null,
   "metadata": {},
   "outputs": [],
   "source": [
    "time, hplus, hcross = wm.hlm_to_strain()\n",
    "\n",
    "import matplotlib.pyplot as plt\n",
    "fig, ax = plt.subplots()\n",
    "ax.plot(time, hplus, label=r'$h_+$')\n",
    "ax.plot(time, hcross,'--',label=r'$h_{\\times}$') \n",
    "ax.set_xlabel('time')\n",
    "ax.grid()\n",
    "plt.legend()\n",
    "#fig.savefig(\"nrmodes2strain.pdf\")\n",
    "plt.show()"
   ]
  },
  {
   "cell_type": "markdown",
   "metadata": {},
   "source": [
    "Write text files for every mode of $h_{\\ell m}$."
   ]
  },
  {
   "cell_type": "code",
   "execution_count": null,
   "metadata": {},
   "outputs": [],
   "source": [
    "for (l,m) in wm.modes:\n",
    "    \n",
    "        psilm = wm.get(var='Psi4',l=l, m=m)\n",
    "        psilm.write_to_txt('Psi4', thcsim['pre-release-folder'])\n",
    "        \n",
    "        hlm = wm.get(l=l, m=m)\n",
    "        hlm.write_to_txt('h', thcsim['pre-release-folder'])"
   ]
  },
  {
   "cell_type": "markdown",
   "metadata": {},
   "source": [
    "Write energetics to text files."
   ]
  },
  {
   "cell_type": "code",
   "execution_count": null,
   "metadata": {},
   "outputs": [],
   "source": [
    "wm.energetics(thcsim['massA'], thcsim['massB'], thcsim['madm'], thcsim['jadm'], \n",
    "              path_out = thcsim['pre-release-folder'])"
   ]
  },
  {
   "cell_type": "markdown",
   "metadata": {},
   "source": [
    "Above, the `thcsim` dictionary is (carefully) written using (some of) the keys for the CoRe DB metadata. The latter are stored in a `CoRe_md()` object, which basically contains a dictionary. Lets see what is inside:"
   ]
  },
  {
   "cell_type": "code",
   "execution_count": null,
   "metadata": {},
   "outputs": [],
   "source": [
    "from watpy.coredb.metadata import CoRe_md\n",
    "\n",
    "md = CoRe_md() # initialized empty\n",
    "print(md.path)\n",
    "print(md.data)\n",
    "\n",
    "#md.info() # Uncomment to see the information about each key of the metadata"
   ]
  },
  {
   "cell_type": "markdown",
   "metadata": {},
   "source": [
    "To initialize this object we can pass a dictionary, like `thcsim`. We use the `CoRe_md()` to write such a text file, i.e. a metadata.txt:"
   ]
  },
  {
   "cell_type": "code",
   "execution_count": null,
   "metadata": {},
   "outputs": [],
   "source": [
    "md.update_fromdict(thcsim)\n",
    "# md = CoRe_md(metadata = thcsim) # alternatively, (re-)initialize\n",
    "\n",
    "# show the metadata\n",
    "for k,v, in md.data.items():\n",
    "    print('{} = {}'.format(k,v))\n",
    "\n",
    "# write\n",
    "md.write(path = thcsim['pre-release-folder'], fname = 'metadata.txt')"
   ]
  },
  {
   "cell_type": "markdown",
   "metadata": {},
   "source": []
  },
  {
   "cell_type": "code",
   "execution_count": null,
   "metadata": {},
   "outputs": [],
   "source": []
  }
 ],
 "metadata": {
  "kernelspec": {
   "display_name": "Python 3 (ipykernel)",
   "language": "python",
   "name": "python3"
  },
  "language_info": {
   "codemirror_mode": {
    "name": "ipython",
    "version": 3
   },
   "file_extension": ".py",
   "mimetype": "text/x-python",
   "name": "python",
   "nbconvert_exporter": "python",
   "pygments_lexer": "ipython3",
   "version": "3.8.10"
  },
  "vscode": {
   "interpreter": {
    "hash": "c1e17a00b0aafd17a1d703df555a95772c618591fbce2c667d77b3e0cadbd66d"
   }
  }
 },
 "nbformat": 4,
 "nbformat_minor": 4
}
