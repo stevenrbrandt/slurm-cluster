{
 "cells": [
  {
   "cell_type": "code",
   "execution_count": null,
   "id": "789f807f",
   "metadata": {},
   "outputs": [],
   "source": [
    "# %load /usr/local/lib/et-setup.py\n",
    "# this allows you to use \"cd\" in cells to change directories instead of requiring \"%cd\"\n",
    "%automagic on\n",
    "# override IPython's default %%bash to not buffer all output\n",
    "from IPython.core.magic import register_cell_magic\n",
    "from time import time, sleep\n",
    "import os\n",
    "home = os.path.expanduser(\"~/\")\n",
    "@register_cell_magic\n",
    "def bash(line, cell):\n",
    "    get_ipython().system(cell)\n",
    "@register_cell_magic\n",
    "def slurm(line, cell):\n",
    "    with open(f\"{home}/.slurm.sh\",\"w\") as fd:\n",
    "        fd.write(cell)\n",
    "    get_ipython().system(f\"srun {line} bash {home}/.slurm.sh\")\n",
    "\n",
    "# this (non-default package) keeps the end of shell output in view\n",
    "try: import scrolldown\n",
    "except ModuleNotFoundError: pass\n",
    "\n",
    "# We are going to install kuibit, a Python package to post-process Cactus simulations.\n",
    "# We will install kuibit inside the Cactus directory. The main reason for this is to\n",
    "# have a make easier to uninstall kuibit (you can just remove the Cactus folder). \n",
    "import os, sys\n",
    "os.environ[\"PYTHONUSERBASE\"] = os.environ['HOME'] + \"/Cactus/python\"\n",
    "sys.path.insert(1, f\"{os.environ['PYTHONUSERBASE']}/lib/python{sys.version_info[0]}.{sys.version_info[1]}/site-packages\")\n"
   ]
  },
  {
   "cell_type": "markdown",
   "id": "a2b1d841",
   "metadata": {},
   "source": [
    "# CarpetX Setup\n",
    "CarpetX and its related thorns, AsterX and SpacetimeX, represent a new core infrastructure for the Einstein Toolkit\n",
    "based on AMReX (https://amrex-codes.github.io/amrex/). They use the same Cactus base-level system, however, and so the\n",
    "checkout and compilation of CarpetX is going to look very familiar."
   ]
  },
  {
   "cell_type": "code",
   "execution_count": null,
   "id": "8247bc1b",
   "metadata": {},
   "outputs": [],
   "source": [
    "cd ~/"
   ]
  },
  {
   "cell_type": "code",
   "execution_count": null,
   "id": "ef1e9381",
   "metadata": {},
   "outputs": [],
   "source": [
    "%%bash\n",
    "untar.py ~etuser/CarpetX.tar.gz"
   ]
  },
  {
   "cell_type": "code",
   "execution_count": null,
   "id": "f79d51f9",
   "metadata": {},
   "outputs": [],
   "source": [
    "%%bash\n",
    "curl -LO https://raw.githubusercontent.com/jaykalinani/AsterX/ETX_2023_06/Docs/thornlist/asterx.th\n",
    "./GetComponents ~/asterx.th --root CarpetX"
   ]
  },
  {
   "cell_type": "code",
   "execution_count": null,
   "id": "c5089048",
   "metadata": {},
   "outputs": [],
   "source": [
    "cd ~/CarpetX"
   ]
  },
  {
   "cell_type": "code",
   "execution_count": null,
   "id": "06f1a6f1",
   "metadata": {},
   "outputs": [],
   "source": [
    "%%bash\n",
    "./simfactory/bin/sim setup-silent"
   ]
  },
  {
   "cell_type": "code",
   "execution_count": null,
   "id": "91590847",
   "metadata": {},
   "outputs": [],
   "source": [
    "%%slurm -n 2\n",
    "./simfactory/bin/sim build -j${SLURM_NPROCS} --thornlist ~/asterx.th --optionlist ~etuser/carpetx.cfg"
   ]
  },
  {
   "cell_type": "code",
   "execution_count": null,
   "id": "7e3c49bf",
   "metadata": {},
   "outputs": [],
   "source": []
  }
 ],
 "metadata": {
  "kernelspec": {
   "display_name": "Python 3 (ipykernel)",
   "language": "python",
   "name": "python3"
  },
  "language_info": {
   "codemirror_mode": {
    "name": "ipython",
    "version": 3
   },
   "file_extension": ".py",
   "mimetype": "text/x-python",
   "name": "python",
   "nbconvert_exporter": "python",
   "pygments_lexer": "ipython3",
   "version": "3.8.10"
  }
 },
 "nbformat": 4,
 "nbformat_minor": 5
}
