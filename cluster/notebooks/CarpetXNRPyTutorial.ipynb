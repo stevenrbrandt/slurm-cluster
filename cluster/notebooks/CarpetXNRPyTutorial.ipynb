{
 "cells": [
  {
   "cell_type": "markdown",
   "id": "e5d9e12b",
   "metadata": {},
   "source": [
    "# Setup of CarpetX"
   ]
  },
  {
   "cell_type": "code",
   "execution_count": null,
   "id": "789f807f",
   "metadata": {},
   "outputs": [],
   "source": [
    "# %load /usr/local/lib/et-setup.py\n",
    "# this allows you to use \"cd\" in cells to change directories instead of requiring \"%cd\"\n",
    "%automagic on\n",
    "# override IPython's default %%bash to not buffer all output\n",
    "from IPython.core.magic import register_cell_magic\n",
    "from time import time, sleep\n",
    "import os\n",
    "home = os.path.expanduser(\"~/\")\n",
    "@register_cell_magic\n",
    "def bash(line, cell):\n",
    "    get_ipython().system(cell)\n",
    "@register_cell_magic\n",
    "def slurm(line, cell):\n",
    "    with open(f\"{home}/.slurm.sh\",\"w\") as fd:\n",
    "        fd.write(\"if [ ${SLURM_PROCID} != 0 ]; then exit 0; fi\\n\")\n",
    "        fd.write(cell)\n",
    "    get_ipython().system(f\"srun {line} bash {home}/.slurm.sh\")\n",
    "\n",
    "# this (non-default package) keeps the end of shell output in view\n",
    "try: import scrolldown\n",
    "except ModuleNotFoundError: pass\n",
    "\n",
    "# We are going to install kuibit, a Python package to post-process Cactus simulations.\n",
    "# We will install kuibit inside the Cactus directory. The main reason for this is to\n",
    "# have a make easier to uninstall kuibit (you can just remove the Cactus folder). \n",
    "import os, sys\n",
    "os.environ[\"PYTHONUSERBASE\"] = os.environ['HOME'] + \"/Cactus/python\"\n",
    "sys.path.insert(1, f\"{os.environ['PYTHONUSERBASE']}/lib/python{sys.version_info[0]}.{sys.version_info[1]}/site-packages\")\n"
   ]
  },
  {
   "cell_type": "code",
   "execution_count": null,
   "id": "d037a005",
   "metadata": {},
   "outputs": [],
   "source": [
    "cd ~/"
   ]
  },
  {
   "cell_type": "code",
   "execution_count": null,
   "id": "ef1e9381",
   "metadata": {},
   "outputs": [],
   "source": [
    "%%bash\n",
    "# untar.py ~etuser/CarpetX.tar.gz"
   ]
  },
  {
   "cell_type": "markdown",
   "id": "de12b16d",
   "metadata": {},
   "source": [
    "# NRPy+!\n",
    "The NRPy+ collection of Python codes is designed to help us write code for Cactus, CarpetX, and other frameworks. Let's check it out..."
   ]
  },
  {
   "cell_type": "code",
   "execution_count": null,
   "id": "b45990b8",
   "metadata": {},
   "outputs": [],
   "source": [
    "%%bash\n",
    "cd ~/\n",
    "if [ ! -d nrpytutorial ]; then\n",
    "  git clone -b ETX_2023_06 --depth 1 https://github.com/zachetienne/nrpytutorial\n",
    "else\n",
    "  echo \"Already checked out\"\n",
    "fi"
   ]
  },
  {
   "cell_type": "code",
   "execution_count": null,
   "id": "79948fc4",
   "metadata": {},
   "outputs": [],
   "source": [
    "cd ~/nrpytutorial"
   ]
  },
  {
   "cell_type": "markdown",
   "id": "56b75298",
   "metadata": {},
   "source": [
    "## Writing a Thorn a New Way...\n",
    "Instead of writing a ton of boilerplate files, we can construct thorns with loops that evaluate fuctions as easy as sympy."
   ]
  },
  {
   "cell_type": "code",
   "execution_count": null,
   "id": "90f76a04",
   "metadata": {},
   "outputs": [],
   "source": [
    "%%writefile WaveToy.py\n",
    "import os\n",
    "import sys\n",
    "import re\n",
    "import grid\n",
    "from cactusthorn import CactusThorn, loop\n",
    "from sympy import sympify, sin, cos, pi\n",
    "import NRPy_param_funcs as par\n",
    "from subprocess import call\n",
    "import numpy as np\n",
    "from fstr import f\n",
    "\n",
    "def main():\n",
    "    global par\n",
    "\n",
    "    # Current options are Carpet and CarpetX\n",
    "    grid.ET_driver = os.environ.get(\"CACTUS_DRIVER\",\"Carpet\")\n",
    "\n",
    "    thorn = CactusThorn(\"TestOne\",\"WaveToyNRPy\")\n",
    "\n",
    "    #FD_order = thorn.declare_param('FD_order',default=2,vmin=2,vmax=8,doc=\"The finite difference order\")\n",
    "\n",
    "    wave_speed = thorn.declare_param('wave_speed',default=1,vmin=.1,vmax=100,doc=\"The speed of the wave\")\n",
    "    x0 = thorn.declare_param('x0',default=0,vmin=-100,vmax=100,doc=\"The x pos of the wave\")\n",
    "    y0 = thorn.declare_param('y0',default=0,vmin=-100,vmax=100,doc=\"The y pos of the wave\")\n",
    "    z0 = thorn.declare_param('z0',default=0,vmin=-100,vmax=100,doc=\"The z pos of the wave\")\n",
    "    zero = thorn.declare_param('zero',default=0,vmin=0,vmax=0,doc=\"zero\")\n",
    "\n",
    "    # Centering for X, Y, and Z\n",
    "    centering='VVC'\n",
    "\n",
    "    # AUXEVOL needed for the evo, can be freed after evaluating rhs (1 time level)\n",
    "    # AUX uu_rhs (1 time level)\n",
    "    # EVOL evolved gfs (3 time levels)\n",
    "    uu_rhs, vv_rhs = thorn.register_gridfunctions(\"AUX\", [\"rhs_uu\", \"rhs_vv\"], centering=centering)\n",
    "    uu, vv = thorn.register_gridfunctions(\"EVOL\", [\"uu\", \"vv\"], centering=centering)\n",
    "    ana = thorn.register_gridfunctions(\"AUX\", [\"ana\"], centering=centering)\n",
    "    cctk_time = par.Cparameters(\"CCTK_REAL\",\"Cactus\",[\"cctk_time\"],0)\n",
    "    if grid.ET_driver == \"CarpetX\":\n",
    "        tmp0, tmp1 = thorn.register_gridfunctions(\"TILE_TMP\",[\"tmp0v\",\"tmp1v\"],centering=centering)\n",
    "        regrid_error = thorn.get_regrid_error()\n",
    "    x,y,z = thorn.get_xyz()\n",
    "\n",
    "    from outputC import lhrh\n",
    "    import indexedexp as ixp\n",
    "    import NRPy_param_funcs as par\n",
    "\n",
    "    FD_order = 2\n",
    "    par.set_parval_from_str(\"finite_difference::FD_CENTDERIVS_ORDER\",FD_order)\n",
    "\n",
    "    uu_dDD = ixp.declarerank2(\"uu_dDD\",\"sym01\")\n",
    "\n",
    "    if grid.ET_driver == \"CarpetX\":\n",
    "        evol_eqns = [\n",
    "            lhrh(lhs=tmp0, rhs=uu_dDD[0][0]),\n",
    "            lhrh(lhs=tmp1, rhs=uu_dDD[1][1]),\n",
    "            loop,\n",
    "            lhrh(lhs=uu_rhs, rhs=vv),\n",
    "            lhrh(lhs=vv_rhs, rhs=wave_speed**2*(tmp0 + tmp1))\n",
    "        ]\n",
    "    else:\n",
    "        # Version of evolution equations without temporaries\n",
    "        evol_eqns = [\n",
    "            lhrh(lhs=uu_rhs, rhs=vv),\n",
    "            lhrh(lhs=vv_rhs, rhs=wave_speed**2*(uu_dDD[0][0] + uu_dDD[1][1]))\n",
    "        ]\n",
    "\n",
    "    k = sympify(pi/20)\n",
    "    toff = sympify(pi/2)\n",
    "    sq2 = sympify(2**.5)\n",
    "\n",
    "    init_eqns = [\n",
    "        lhrh(lhs=vv, rhs=sympify(0)),\n",
    "        lhrh(lhs=uu, rhs=sin(k*(x))*sin(k*(y)))\n",
    "    ]\n",
    "\n",
    "    # What is omega?\n",
    "    # omega / k = wave_speed\n",
    "\n",
    "    anal_eqns = [\n",
    "        lhrh(lhs=ana, rhs=sin(k*x)*sin(k*y)*sin(cctk_time*sq2*wave_speed*k+toff)-uu)\n",
    "    ]\n",
    "\n",
    "    if grid.ET_driver == \"CarpetX\":\n",
    "        thorn.add_func(\"refine\",\n",
    "            body=[lhrh(lhs=regrid_error, rhs=10/((x-20)**2 + (y-20)**2))],\n",
    "            doc=\"do the regrid\",\n",
    "            schedule_bin=\"ODESolvers_EstimateError\")\n",
    "\n",
    "    # access a variable with a different centering using interpolation\n",
    "    # looping cell-centered, access vertex-centered, not vice-versa\n",
    "    # all rhs variables should have the same centering\n",
    "    # wave toy with fluxes, fluxes are faces\n",
    "    # schedule something in post-regrid, apply bc's\n",
    "    thorn.add_func(\"wave_init\",\n",
    "        body=init_eqns,\n",
    "        where='everywhere',\n",
    "        schedule_bin='initial',\n",
    "        doc='Do the wave init',\n",
    "        centering=centering)\n",
    "\n",
    "    thorn.add_func(\"wave_evol\",\n",
    "        body=evol_eqns,\n",
    "        where='interior',\n",
    "        schedule_bin='RHS',\n",
    "        doc='Do the wave evol',\n",
    "        centering=centering)\n",
    "\n",
    "    thorn.add_func(\"wave_anal\",\n",
    "        body=anal_eqns,\n",
    "        where='everywhere',\n",
    "        schedule_bin='Analysis',\n",
    "        doc='Check the result',\n",
    "        centering=centering)\n",
    "\n",
    "    assert \"CACTUS_HOME\" in os.environ, \"Please set the CACTUS_HOME variable to point to your Cactus installation\"\n",
    "    cactus_home = os.environ[\"CACTUS_HOME\"]\n",
    "    cactus_sim = os.environ.get(\"CACTUS_SIM\",\"sim\")\n",
    "    cactus_thornlist = os.environ.get(\"CACTUS_THORNLIST\", None)\n",
    "\n",
    "    #cactus_home = \"/project/sbrandt/release/Cactus\"\n",
    "    thorn.generate(cactus_home,cactus_config=cactus_sim,cactus_thornlist=cactus_thornlist)\n",
    "\n",
    "main()"
   ]
  },
  {
   "cell_type": "code",
   "execution_count": null,
   "id": "a1fcdef6",
   "metadata": {},
   "outputs": [],
   "source": [
    "%%bash\n",
    "export PYTHONPATH=$(pwd)\n",
    "export CACTUS_HOME=$HOME/CarpetX\n",
    "export CACTUS_DRIVER=CarpetX\n",
    "export CACTUS_THORNLIST=$HOME/asterx.th\n",
    "python3 WaveToy.py"
   ]
  },
  {
   "cell_type": "code",
   "execution_count": null,
   "id": "c19015f8",
   "metadata": {},
   "outputs": [],
   "source": [
    "%%bash\n",
    "diff ~/asterx.th ~etuser/asterx.th"
   ]
  },
  {
   "cell_type": "code",
   "execution_count": null,
   "id": "9d6248d3",
   "metadata": {},
   "outputs": [],
   "source": [
    "%%slurm -n 2\n",
    "cd ~/CarpetX\n",
    "./simfactory/bin/sim build -j${SLURM_NPROCS} --thornlist ~/asterx.th --optionlist ~etuser/carpetx.cfg"
   ]
  },
  {
   "cell_type": "code",
   "execution_count": null,
   "id": "92351946",
   "metadata": {},
   "outputs": [],
   "source": [
    "%%writefile wave2dx.par\n",
    "# This is the parameter file which will tell Cactus\n",
    "# which thorns to execute and with what values\n",
    "ActiveThorns = \"WaveToyNRPy CarpetX IOUtil ODESolvers\"\n",
    "\n",
    "ODESolvers::method = \"RK3\"\n",
    "Cactus::presync_mode = \"presync-only\"\n",
    "\n",
    "Cactus::terminate = \"iteration\"\n",
    "$blocksize=10\n",
    "$nblocks=20\n",
    "Cactus::cctk_itlast = 50 #$nblocks*$blocksize\n",
    "\n",
    "CarpetX::periodic_x = false\n",
    "CarpetX::periodic_y = false\n",
    "CarpetX::periodic_z = false\n",
    "\n",
    "CarpetX::max_tile_size_x = 200\n",
    "CarpetX::max_tile_size_y = 200\n",
    "CarpetX::max_tile_size_z = 200\n",
    "CarpetX::max_grid_size_x = 200\n",
    "CarpetX::max_grid_size_y = 200\n",
    "CarpetX::max_grid_size_z = 200\n",
    "\n",
    "CarpetX::verbose = yes\n",
    "\n",
    "CarpetX::poison_undefined_values = no\n",
    "\n",
    "$ncells_x = 80\n",
    "$ncells_y = 80\n",
    "$xmax = 40.0\n",
    "$ymax = 40.0\n",
    "$dx = $xmax/($ncells_x + 2.0)\n",
    "$dy = $ymax/($ncells_y + 2.0)\n",
    "\n",
    "CarpetX::ncells_x = $ncells_x\n",
    "CarpetX::ncells_y = $ncells_y\n",
    "CarpetX::ncells_z = 1\n",
    "\n",
    "CarpetX::xmin = $dx\n",
    "CarpetX::ymin = $dy\n",
    "CarpetX::zmin = -1.0\n",
    "\n",
    "CarpetX::xmax = $xmax-$dx\n",
    "CarpetX::ymax = $ymax-$dy\n",
    "CarpetX::zmax = 1.0\n",
    "\n",
    "CarpetX::blocking_factor_x = 8\n",
    "CarpetX::blocking_factor_y = 8\n",
    "CarpetX::blocking_factor_z = 1\n",
    "\n",
    "CarpetX::ghost_size_x = 1\n",
    "CarpetX::ghost_size_y = 1\n",
    "CarpetX::ghost_size_z = 0\n",
    "\n",
    "IO::out_dir = $parfile\n",
    "IO::out_every = 2 #$blocksize\n",
    "IO::out_mode = \"np\"\n",
    "IO::out_proc_every = 1\n",
    "CarpetX::out_openpmd_vars = \"all\"\n",
    "CarpetX::boundary_x = \"dirichlet\"\n",
    "CarpetX::boundary_y = \"dirichlet\"\n",
    "CarpetX::boundary_z = \"dirichlet\"\n",
    "CarpetX::boundary_upper_x = \"dirichlet\"\n",
    "CarpetX::boundary_upper_y = \"dirichlet\"\n",
    "CarpetX::boundary_upper_z = \"dirichlet\"\n",
    "\n",
    "$nlevels = 2\n",
    "CarpetX::max_num_levels = $nlevels\n",
    "CarpetX::regrid_every = 1\n",
    "CarpetX::regrid_error_threshold = 0.1\n",
    "CarpetX::out_tsv_vars = \" WaveToyNRPy::uugf \""
   ]
  },
  {
   "cell_type": "code",
   "execution_count": null,
   "id": "87034bb4",
   "metadata": {},
   "outputs": [],
   "source": [
    "%%bash\n",
    "cd ~/CarpetX\n",
    "./simfactory/bin/sim create-run --procs=2 --parfile ~/nrpytutorial/wave2dx.par wave2dx"
   ]
  },
  {
   "cell_type": "code",
   "execution_count": null,
   "id": "4d1d83e3",
   "metadata": {},
   "outputs": [],
   "source": [
    "ls -d ~/simulations/wave2dx/output-0000/wave2dx/*.bp5"
   ]
  },
  {
   "cell_type": "code",
   "execution_count": null,
   "id": "f18b999f",
   "metadata": {},
   "outputs": [],
   "source": [
    "%%bash\n",
    "curl -o ~/plot-zslice.py -L https://gist.githubusercontent.com/stevenrbrandt/ef3718d52680d8a4e6accbad198a0b42/raw/1fcfd880ec426255c8678f8dd10a701b456f5c8a/plot-zslice.py"
   ]
  },
  {
   "cell_type": "code",
   "execution_count": null,
   "id": "0143c755",
   "metadata": {},
   "outputs": [],
   "source": [
    "%%bash\n",
    "export PYTHONPATH=/usr/local/lib/python3.8/site-packages\n",
    "rm -f *.png\n",
    "python3 ~/plot-zslice.py --vmin -.1 --vmax .1 \\\n",
    "  --out-dir . --data-dir $HOME/simulations/wave2dx/output-0000/wave2dx WaveToyNRPy::uuGF"
   ]
  },
  {
   "cell_type": "code",
   "execution_count": null,
   "id": "c134b7fd",
   "metadata": {},
   "outputs": [],
   "source": [
    "%%bash\n",
    "ls *.png"
   ]
  },
  {
   "cell_type": "code",
   "execution_count": null,
   "id": "1f76a1dc",
   "metadata": {},
   "outputs": [],
   "source": [
    "from IPython.display import Image, display\n",
    "display(Image(filename=('uugf%05d.png' % 26)))"
   ]
  },
  {
   "cell_type": "code",
   "execution_count": null,
   "id": "7e3c49bf",
   "metadata": {},
   "outputs": [],
   "source": [
    "from subprocess import call\n",
    "call([\"ffmpeg\", \"-i\", \"uugf%05d.png\", \"-i\", \"uugf00001.png\",\n",
    "      \"-filter_complex\", \"[1:v] palettegen [p];[0:v][p] paletteuse\",\n",
    "      \"-y\", \"wave2d.gif\"])"
   ]
  },
  {
   "cell_type": "code",
   "execution_count": null,
   "id": "62ca2f76",
   "metadata": {},
   "outputs": [],
   "source": [
    "display(Image(\"wave2d.gif\"))"
   ]
  },
  {
   "cell_type": "code",
   "execution_count": null,
   "id": "4ee4a6a6",
   "metadata": {},
   "outputs": [],
   "source": []
  }
 ],
 "metadata": {
  "kernelspec": {
   "display_name": "Python 3 (ipykernel)",
   "language": "python",
   "name": "python3"
  },
  "language_info": {
   "codemirror_mode": {
    "name": "ipython",
    "version": 3
   },
   "file_extension": ".py",
   "mimetype": "text/x-python",
   "name": "python",
   "nbconvert_exporter": "python",
   "pygments_lexer": "ipython3",
   "version": "3.8.10"
  }
 },
 "nbformat": 4,
 "nbformat_minor": 5
}
