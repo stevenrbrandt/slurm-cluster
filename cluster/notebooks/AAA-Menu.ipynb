{
 "cells": [
  {
   "cell_type": "markdown",
   "id": "6e4c0c96",
   "metadata": {},
   "source": [
    "# Menu of Notebooks\n",
    "This is the menu of ET notebooks for the Portual Workshop of 2023.\n",
    "\n",
    "## Cactus Einstein Toolkit\n",
    "\n",
    "[CactusTutorial.ipynb](./CactusTutorial.ipynb)\n",
    "\n",
    "[CreatingANewThorn-WaveEqn.ipynb](./CreatingANewThorn-WaveEqn.ipynb)\n",
    "\n",
    "[CreatingANewThorn-HeatEqn.ipynb](./CreatingANewThorn-HeatEqn.ipynb)\n",
    "\n",
    "## CarpetX Einstein Toolkit\n",
    "\n",
    "[CarpetXSetup.ipynb](./CarpetXSetup.ipynb)\n",
    "\n",
    "[Balsara1_Shocktube.ipynb](./Balsara1_Shocktube.ipynb)\n",
    "\n",
    "[CarpetXNRPyTutorial.ipynb](./CarpetXNRPyTutorial.ipynb)\n",
    "\n",
    "## The Self-Force Code\n",
    "\n",
    "[Selfforce-1D.ipynb](./Selfforce-1D.ipynb)\n",
    "\n",
    "## CoRoDB\n",
    "\n",
    "[CoReDB_tutorial/watpy_CoReDB.ipynb](./CoReDB_tutorial/watpy_CoReDB.ipynb)\n",
    "\n",
    "## GRChombo\n",
    "\n",
    "[engrenage/examples/BHEvolution.ipynb](./engrenage/examples/BHEvolution.ipynb)\n",
    "\n",
    "[engrenage/examples/OscillatonEvolution.ipynb](./engrenage/examples/OscillatonEvolution.ipynb)\n",
    "\n",
    "## Notebooks from Previous Years\n",
    "\n",
    "[UsingTheCactusReductionInterface.ipynb](./UsingTheCactusReductionInterface.ipynb)\n",
    "\n",
    "[VisualizingOutput-WaveMoL.ipynb](./VisualizingOutput-WaveMoL.ipynb)\n",
    "\n",
    "[Maria_July2021_ETKTalk.ipynb](./Maria_July2021_ETKTalk.ipynb)\n",
    "\n",
    "[SimpleMaxwell_CactusAndDesignIntro.ipynb](./SimpleMaxwell_CactusAndDesignIntro.ipynb)\n",
    "\n",
    "[SimpleMaxwell_MaxwellSystemAndAlgorithm.ipynb](./SimpleMaxwell_MaxwellSystemAndAlgorithm.ipynb)\n",
    "\n",
    "[SimpleMaxwell_Parfile.ipynb](./SimpleMaxwell_Parfile.ipynb)\n",
    "\n",
    "### Acknowledgement of Funding Sources\n",
    "\n",
    "The Einstein Toolkit has been supported by NSF 2004157/2004044/2004311/2004879/2003893, NSF 1550551/1550461/1550436/1550514. Any opinions, findings, and conclusions or recommendations expressed in this material are those of the author(s) and do not necessarily reflect the views of the National Science Foundation.\n",
    "\n",
    "Thanks to the organizers"
   ]
  },
  {
   "cell_type": "code",
   "execution_count": null,
   "id": "8afcc26a",
   "metadata": {},
   "outputs": [],
   "source": []
  }
 ],
 "metadata": {
  "kernelspec": {
   "display_name": "Python 3 (ipykernel)",
   "language": "python",
   "name": "python3"
  },
  "language_info": {
   "codemirror_mode": {
    "name": "ipython",
    "version": 3
   },
   "file_extension": ".py",
   "mimetype": "text/x-python",
   "name": "python",
   "nbconvert_exporter": "python",
   "pygments_lexer": "ipython3",
   "version": "3.8.10"
  }
 },
 "nbformat": 4,
 "nbformat_minor": 5
}
